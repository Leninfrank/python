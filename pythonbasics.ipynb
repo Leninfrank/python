{
 "cells": [
  {
   "cell_type": "code",
   "execution_count": 1,
   "id": "36e0299c",
   "metadata": {},
   "outputs": [
    {
     "name": "stdout",
     "output_type": "stream",
     "text": [
      "20\n"
     ]
    }
   ],
   "source": [
    "a=10\n",
    "b=10\n",
    "print(a+b)"
   ]
  },
  {
   "cell_type": "code",
   "execution_count": 2,
   "id": "b49267af",
   "metadata": {},
   "outputs": [
    {
     "name": "stdout",
     "output_type": "stream",
     "text": [
      "100\n"
     ]
    }
   ],
   "source": [
    "a=50\n",
    "b=50\n",
    "print(a+b)"
   ]
  },
  {
   "cell_type": "code",
   "execution_count": 5,
   "id": "b86bbed5",
   "metadata": {},
   "outputs": [
    {
     "name": "stdout",
     "output_type": "stream",
     "text": [
      "<class 'str'>\n"
     ]
    }
   ],
   "source": [
    "a=\"lenin\"\n",
    "print(type(a))"
   ]
  },
  {
   "cell_type": "code",
   "execution_count": 9,
   "id": "c1ed582d",
   "metadata": {},
   "outputs": [
    {
     "name": "stdout",
     "output_type": "stream",
     "text": [
      "-10\n"
     ]
    }
   ],
   "source": [
    "a=int(\"10\")\n",
    "b=int(\"20\")\n",
    "c=a-b\n",
    "print (c)"
   ]
  },
  {
   "cell_type": "code",
   "execution_count": 1,
   "id": "81115196",
   "metadata": {},
   "outputs": [
    {
     "name": "stdout",
     "output_type": "stream",
     "text": [
      "10\n"
     ]
    }
   ],
   "source": [
    "a=input()\n",
    "print(a)"
   ]
  },
  {
   "cell_type": "code",
   "execution_count": 4,
   "id": "24548c10",
   "metadata": {},
   "outputs": [
    {
     "name": "stdout",
     "output_type": "stream",
     "text": [
      "lenin\n"
     ]
    }
   ],
   "source": [
    "a=str(input())\n",
    "b=str(input())\n",
    "c=a+b\n",
    "print(c)"
   ]
  },
  {
   "cell_type": "code",
   "execution_count": 9,
   "id": "6461c819",
   "metadata": {},
   "outputs": [
    {
     "name": "stdout",
     "output_type": "stream",
     "text": [
      "Name: Lenin\n",
      "age: 33\n"
     ]
    }
   ],
   "source": [
    "name=str(input())\n",
    "age=int(input())\n",
    "print(\"Name:\",name)\n",
    "print(\"age:\",age)"
   ]
  },
  {
   "cell_type": "code",
   "execution_count": 10,
   "id": "138c53b8",
   "metadata": {},
   "outputs": [
    {
     "name": "stdout",
     "output_type": "stream",
     "text": [
      "name: Lenin\n",
      "age: 33\n",
      "address: chennai\n",
      "phone: 9878754777\n"
     ]
    }
   ],
   "source": [
    "name=str(input())\n",
    "age=int(input())\n",
    "address=str(input())\n",
    "phone=int(input())\n",
    "print(\"name:\",name)\n",
    "print(\"age:\",age)\n",
    "print(\"address:\",address)\n",
    "print(\"phone:\",phone)\n"
   ]
  },
  {
   "cell_type": "code",
   "execution_count": 12,
   "id": "c1398466",
   "metadata": {},
   "outputs": [
    {
     "name": "stdout",
     "output_type": "stream",
     "text": [
      "2.6666666666666665\n"
     ]
    }
   ],
   "source": [
    "a=int(input())\n",
    "b=int(input())\n",
    "c=int(input())\n",
    "d=(a*b*c)\n",
    "e=(a+b+c)\n",
    "f=(d/e)\n",
    "print(f)\n"
   ]
  },
  {
   "cell_type": "code",
   "execution_count": 16,
   "id": "94cd6ed9",
   "metadata": {},
   "outputs": [
    {
     "name": "stdout",
     "output_type": "stream",
     "text": [
      "Surya wed Meghna\n"
     ]
    }
   ],
   "source": [
    "Meghna=str(input())\n",
    "if(Meghna==\"Died\"):\n",
    "    print(\"Surya meets Priya\")\n",
    "else:\n",
    "    print(\"Surya wed Meghna\")"
   ]
  },
  {
   "cell_type": "code",
   "execution_count": null,
   "id": "54924d89",
   "metadata": {},
   "outputs": [
    {
     "name": "stdout",
     "output_type": "stream",
     "text": [
      "address: 603202\n"
     ]
    }
   ],
   "source": [
    "area=(input())\n",
    "def detect_data_type(area):\n",
    "    val = int(area)\n",
    "    return val, type(val)\n",
    "    value, dtype = detect_data_type(area)\n",
    "if(area==(int)):\n",
    "    print(\"pincode:\",area)\n",
    "else:\n",
    "    print(\"address:\",area)"
   ]
  }
 ],
 "metadata": {
  "kernelspec": {
   "display_name": ".venv",
   "language": "python",
   "name": "python3"
  },
  "language_info": {
   "codemirror_mode": {
    "name": "ipython",
    "version": 3
   },
   "file_extension": ".py",
   "mimetype": "text/x-python",
   "name": "python",
   "nbconvert_exporter": "python",
   "pygments_lexer": "ipython3",
   "version": "3.12.6"
  }
 },
 "nbformat": 4,
 "nbformat_minor": 5
}
